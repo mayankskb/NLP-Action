{
 "cells": [
  {
   "cell_type": "markdown",
   "metadata": {},
   "source": [
    "## Sentiment Analysis of Reviews using RNNs in TensorFlow"
   ]
  },
  {
   "cell_type": "code",
   "execution_count": 1,
   "metadata": {},
   "outputs": [],
   "source": [
    "import collections\n",
    "import math\n",
    "import os\n",
    "import random\n",
    "import tarfile\n",
    "import re"
   ]
  },
  {
   "cell_type": "code",
   "execution_count": 2,
   "metadata": {},
   "outputs": [],
   "source": [
    "from six.moves import urllib"
   ]
  },
  {
   "cell_type": "code",
   "execution_count": 3,
   "metadata": {},
   "outputs": [
    {
     "name": "stderr",
     "output_type": "stream",
     "text": [
      "/home/mayank/anaconda3/lib/python3.6/site-packages/h5py/__init__.py:36: FutureWarning: Conversion of the second argument of issubdtype from `float` to `np.floating` is deprecated. In future, it will be treated as `np.float64 == np.dtype(float).type`.\n",
      "  from ._conv import register_converters as _register_converters\n"
     ]
    }
   ],
   "source": [
    "import numpy as np\n",
    "import matplotlib as mp\n",
    "import matplotlib.pyplot as plt\n",
    "import tensorflow as tf"
   ]
  },
  {
   "cell_type": "code",
   "execution_count": 4,
   "metadata": {},
   "outputs": [
    {
     "name": "stdout",
     "output_type": "stream",
     "text": [
      "1.14.2\n",
      "2.2.2\n",
      "1.6.0\n"
     ]
    }
   ],
   "source": [
    "print(np.__version__)\n",
    "print(mp.__version__)\n",
    "print(tf.__version__)"
   ]
  },
  {
   "cell_type": "markdown",
   "metadata": {},
   "source": [
    "#### Download, unzip and untar files in an automated way"
   ]
  },
  {
   "cell_type": "code",
   "execution_count": 5,
   "metadata": {},
   "outputs": [],
   "source": [
    "DOWNLOADED_FILENAME = 'ImdbReviews.tar.gz'\n",
    "\n",
    "def download_file(url_path):\n",
    "    if not os.path.exists(DOWNLOADED_FILENAME):\n",
    "        filename, _ = urllib.request.urlretrieve(url_path, DOWNLOADED_FILENAME)\n",
    "\n",
    "    print('Found and verified file from this path: ', url_path)\n",
    "    print('Downloaded file: ', DOWNLOADED_FILENAME)"
   ]
  },
  {
   "cell_type": "markdown",
   "metadata": {},
   "source": [
    "### Extract reviews and the corresponding positive and negative labels from the dataset"
   ]
  },
  {
   "cell_type": "code",
   "execution_count": 6,
   "metadata": {},
   "outputs": [],
   "source": [
    "TOKEN_REGEX = re.compile(\"[^A-Za-z0-9 ]+\")\n",
    "\n",
    "\n",
    "def get_reviews(dirname, positive=True):\n",
    "    label = 1 if positive else 0\n",
    "\n",
    "    reviews = []\n",
    "    labels = []\n",
    "    for filename in os.listdir(dirname):\n",
    "        if filename.endswith(\".txt\"):\n",
    "            with open(dirname + filename, 'r+') as f:\n",
    "                review = f.read()\n",
    "                review = review.lower().replace(\"<br />\", \" \")\n",
    "                review = re.sub(TOKEN_REGEX, '', review)\n",
    "                \n",
    "                reviews.append(review)\n",
    "                labels.append(label)\n",
    "    \n",
    "    return reviews, labels           \n",
    "\n",
    "def extract_labels_data():\n",
    "    # If the file has not already been extracted\n",
    "    if not os.path.exists('aclImdb'):\n",
    "        with tarfile.open(DOWNLOADED_FILENAME) as tar:\n",
    "            tar.extractall()\n",
    "            tar.close()\n",
    "        \n",
    "    positive_reviews, positive_labels = get_reviews(\"aclImdb/train/pos/\", positive=True)\n",
    "    negative_reviews, negative_labels = get_reviews(\"aclImdb/train/neg/\", positive=False)\n",
    "\n",
    "    data = positive_reviews + negative_reviews\n",
    "    labels = positive_labels + negative_labels\n",
    "\n",
    "    return labels, data"
   ]
  },
  {
   "cell_type": "code",
   "execution_count": 7,
   "metadata": {},
   "outputs": [
    {
     "name": "stdout",
     "output_type": "stream",
     "text": [
      "Found and verified file from this path:  http://ai.stanford.edu/~amaas/data/sentiment/aclImdb_v1.tar.gz\n",
      "Downloaded file:  ImdbReviews.tar.gz\n"
     ]
    }
   ],
   "source": [
    "URL_PATH = 'http://ai.stanford.edu/~amaas/data/sentiment/aclImdb_v1.tar.gz'\n",
    "\n",
    "download_file(URL_PATH)"
   ]
  },
  {
   "cell_type": "code",
   "execution_count": 8,
   "metadata": {},
   "outputs": [],
   "source": [
    "labels, data = extract_labels_data()"
   ]
  },
  {
   "cell_type": "code",
   "execution_count": 9,
   "metadata": {},
   "outputs": [
    {
     "data": {
      "text/plain": [
       "[1, 1, 1, 1, 1]"
      ]
     },
     "execution_count": 9,
     "metadata": {},
     "output_type": "execute_result"
    }
   ],
   "source": [
    "labels[:5]"
   ]
  },
  {
   "cell_type": "code",
   "execution_count": 10,
   "metadata": {},
   "outputs": [
    {
     "data": {
      "text/plain": [
       "['excellent episode movie ala pulp fiction 7 days  7 suicides it doesnt get more depressing than this movie rating 810 music rating 1010',\n",
       " 'ive just read the most recent remarks about this movie and i would like to respond youre probably not familiar with the original story of rap group nwa which dates back to the beginning in 1988 in 1989 ice cube left the band to go solo and ultimately in 1991 the band breaking up when drdre left which led to a lot of beef starting with the departure of ice cube and drdre in 1991 this story was somewhat based on that  further more this movie was a 90 minute laughing spree the way they explained the bootie juice song to be a political statement was hilarious not to mention the love song tasty was hooking up and when vanilla sherbert got his ass kicked just like the record company executive is also hilarious and having theyre managers getting shot every time too  people who didnt enjoy this movie probably didnt get it or were complete idiots my opinion',\n",
       " 'well not actually this movie is very entertaining though went and saw it with the girlfriend last night and had to use the i think there might be something in my eye routine the movie is a great combination of comedy and typical romance jim carey is superb as a down on his luck reporter who is given the power to change himself and the city in which he resides in fact all the characters are great the movie is not overly funny or sappy good flick to go see with the wife  all in all 810note  i am not an easy grader thats all from bigv over and out',\n",
       " 'airwolf the movie a variation on the original 2 part pilot yet the movie although shorter does contain extra footage unseen in the 2 hour pilot the pilot is much more of a pilot than the movie where as a pilot movie is normally the same 2 parter combined but the movie is actually a different edit with extras here and cuts there  worth a look even if you have the season 1 dvd set id still pick up a copy of the movie its still in some shops like virgin woolworths and the likes of mixed media stores although it generally needs ordering but it saves needing to buy online as many of us still dont do or trust online shopping but if you look around airwolfs in stores  airwolf was truly 1 of the 80s most under rated shows  a full size airwolf is currently being rebuilt for a helicopter museum  info and work in progress pictures are over at httpairwolforg also with airwolf mods for flashpoint and flight sim games it seams shes finally here to stay ',\n",
       " 'does anyone happen to know where this film was shot the aviation scene on the cliff is beautiful it appears to be england however ivys apartment building certainly looks like the brill building with its fascinating elevators  charles mendl is listed as playing sir charles gage maybe i blinked but i never saw him perhaps he was the husbands lawyer but again i dont recall that character being in the film other than being mentioned as having made a phone call perhaps he was in the aviation scene or the ballroom scene did anyone spot him  herbert marshall was 57 years old when he shot this film']"
      ]
     },
     "execution_count": 10,
     "metadata": {},
     "output_type": "execute_result"
    }
   ],
   "source": [
    "data[:5]"
   ]
  },
  {
   "cell_type": "code",
   "execution_count": 11,
   "metadata": {},
   "outputs": [
    {
     "data": {
      "text/plain": [
       "(25000, 25000)"
      ]
     },
     "execution_count": 11,
     "metadata": {},
     "output_type": "execute_result"
    }
   ],
   "source": [
    "len(labels), len(data)"
   ]
  },
  {
   "cell_type": "code",
   "execution_count": 12,
   "metadata": {},
   "outputs": [
    {
     "name": "stdout",
     "output_type": "stream",
     "text": [
      "2470\n"
     ]
    }
   ],
   "source": [
    "max_document_length = max([len(x.split(\" \")) for x in data])\n",
    "print(max_document_length)"
   ]
  },
  {
   "cell_type": "markdown",
   "metadata": {},
   "source": [
    "### How many words to consider in each review?\n",
    "\n",
    "Majority of the reviews fall under 250 words. This a number we've chosen based on some analysis of the data:\n",
    "\n",
    "* Count the number of words in each file and divide by number of files to get an average i.e. **avg_words_per_file = total_words / num_files**\n",
    "* Plot the words per file on matplot lib and try find a number which includes a majority of files\n",
    "\n",
    "Word embeddings all have the same dimensionality which you can specify. A document is a vector of word embeddings (one dbpedia instance is a document in this case)\n",
    "\n",
    "* Each document should be of the **same length**, documents longer than the MAX_SEQUENCE_LENGTH are truncated to this length\n",
    "* The other documents will be **padded** by a special symbol to be the same max length"
   ]
  },
  {
   "cell_type": "code",
   "execution_count": 13,
   "metadata": {},
   "outputs": [],
   "source": [
    "MAX_SEQUENCE_LENGTH = 250"
   ]
  },
  {
   "cell_type": "markdown",
   "metadata": {},
   "source": [
    "### Vocabulary processor\n",
    " \n",
    "http://tflearn.org/data_utils/\n",
    " \n",
    "Library to map every word which occurs in our dataset to a unique identifer. If there are 10023 words each will be assigned a unique id from 1-10023"
   ]
  },
  {
   "cell_type": "code",
   "execution_count": 14,
   "metadata": {},
   "outputs": [],
   "source": [
    "vocab_processor = tf.contrib.learn.preprocessing.VocabularyProcessor(MAX_SEQUENCE_LENGTH)"
   ]
  },
  {
   "cell_type": "markdown",
   "metadata": {},
   "source": [
    "#### Transform every word to a representation using unique ids"
   ]
  },
  {
   "cell_type": "code",
   "execution_count": 15,
   "metadata": {},
   "outputs": [
    {
     "name": "stdout",
     "output_type": "stream",
     "text": [
      "111526\n"
     ]
    }
   ],
   "source": [
    "x_data = np.array(list(vocab_processor.fit_transform(data)))\n",
    "y_output = np.array(labels)\n",
    "\n",
    "vocabulary_size = len(vocab_processor.vocabulary_)\n",
    "print(vocabulary_size)"
   ]
  },
  {
   "cell_type": "code",
   "execution_count": 16,
   "metadata": {},
   "outputs": [
    {
     "data": {
      "text/plain": [
       "['airwolf the movie a variation on the original 2 part pilot yet the movie although shorter does contain extra footage unseen in the 2 hour pilot the pilot is much more of a pilot than the movie where as a pilot movie is normally the same 2 parter combined but the movie is actually a different edit with extras here and cuts there  worth a look even if you have the season 1 dvd set id still pick up a copy of the movie its still in some shops like virgin woolworths and the likes of mixed media stores although it generally needs ordering but it saves needing to buy online as many of us still dont do or trust online shopping but if you look around airwolfs in stores  airwolf was truly 1 of the 80s most under rated shows  a full size airwolf is currently being rebuilt for a helicopter museum  info and work in progress pictures are over at httpairwolforg also with airwolf mods for flashpoint and flight sim games it seams shes finally here to stay ',\n",
       " 'does anyone happen to know where this film was shot the aviation scene on the cliff is beautiful it appears to be england however ivys apartment building certainly looks like the brill building with its fascinating elevators  charles mendl is listed as playing sir charles gage maybe i blinked but i never saw him perhaps he was the husbands lawyer but again i dont recall that character being in the film other than being mentioned as having made a phone call perhaps he was in the aviation scene or the ballroom scene did anyone spot him  herbert marshall was 57 years old when he shot this film']"
      ]
     },
     "execution_count": 16,
     "metadata": {},
     "output_type": "execute_result"
    }
   ],
   "source": [
    "data[3:5]"
   ]
  },
  {
   "cell_type": "code",
   "execution_count": 17,
   "metadata": {},
   "outputs": [
    {
     "data": {
      "text/plain": [
       "array([[182,  24,   3,  66, 183,  74,  24,  40, 184, 185, 186, 187,  24,\n",
       "          3, 188, 189, 190, 191, 192, 193, 194,  50,  24, 184, 195, 186,\n",
       "         24, 186, 104, 196,  13,  42,  66, 186,  15,  24,   3, 197, 150,\n",
       "         66, 186,   3, 104, 198,  24, 199, 184, 200, 201, 202,  24,   3,\n",
       "        104, 125,  66, 203, 204,  39, 205, 206,  29, 207, 137, 208,  66,\n",
       "        209, 210, 211, 212, 213,  24, 214, 215, 216, 217, 218, 219, 220,\n",
       "         62,  66, 221,  42,  24,   3, 222, 219,  50, 223, 224,  32, 225,\n",
       "        226,  29,  24, 227,  42, 228, 229, 230, 188,  10, 231, 232, 233,\n",
       "        202,  10, 234, 235,  33, 236, 237, 150, 238,  42, 239, 219, 240,\n",
       "        241, 118, 242, 237, 243, 202, 211, 212, 209, 244, 245,  50, 230,\n",
       "        182,  71, 246, 215,  42,  24, 247,  25, 248, 249, 250,  66, 251,\n",
       "        252, 182, 104, 253, 254, 255, 256,  66, 257, 258, 259,  29, 260,\n",
       "         50, 261, 262, 164, 180, 263, 264, 105,  39, 182, 265, 256, 266,\n",
       "         29, 267, 268, 269,  10, 270, 271, 272, 206,  33, 273,   0,   0,\n",
       "          0,   0,   0,   0,   0,   0,   0,   0,   0,   0,   0,   0,   0,\n",
       "          0,   0,   0,   0,   0,   0,   0,   0,   0,   0,   0,   0,   0,\n",
       "          0,   0,   0,   0,   0,   0,   0,   0,   0,   0,   0,   0,   0,\n",
       "          0,   0,   0,   0,   0,   0,   0,   0,   0,   0,   0,   0,   0,\n",
       "          0,   0,   0,   0,   0,   0,   0,   0,   0,   0,   0,   0,   0,\n",
       "          0,   0,   0],\n",
       "       [190, 274, 275,  33, 276, 197,  16, 277,  71, 110,  24, 278, 279,\n",
       "         74,  24, 280, 104, 281,  10, 282,  33,  87, 283, 284, 285, 286,\n",
       "        287, 288, 289,  32,  24, 290, 287,  39, 222, 291, 292, 293, 294,\n",
       "        104, 295, 150, 296, 297, 293, 298, 299,  30, 300, 202,  30, 301,\n",
       "        130, 302, 303, 159,  71,  24, 304, 305, 202, 306,  30, 240, 307,\n",
       "         75, 308, 254,  50,  24, 277, 309,  15, 254, 310, 150, 106, 311,\n",
       "         66, 312, 313, 303, 159,  71,  50,  24, 278, 279, 118,  24, 314,\n",
       "        279, 315, 274, 316, 302, 317, 318,  71, 319, 320, 321,  63, 159,\n",
       "        110,  16, 277,   0,   0,   0,   0,   0,   0,   0,   0,   0,   0,\n",
       "          0,   0,   0,   0,   0,   0,   0,   0,   0,   0,   0,   0,   0,\n",
       "          0,   0,   0,   0,   0,   0,   0,   0,   0,   0,   0,   0,   0,\n",
       "          0,   0,   0,   0,   0,   0,   0,   0,   0,   0,   0,   0,   0,\n",
       "          0,   0,   0,   0,   0,   0,   0,   0,   0,   0,   0,   0,   0,\n",
       "          0,   0,   0,   0,   0,   0,   0,   0,   0,   0,   0,   0,   0,\n",
       "          0,   0,   0,   0,   0,   0,   0,   0,   0,   0,   0,   0,   0,\n",
       "          0,   0,   0,   0,   0,   0,   0,   0,   0,   0,   0,   0,   0,\n",
       "          0,   0,   0,   0,   0,   0,   0,   0,   0,   0,   0,   0,   0,\n",
       "          0,   0,   0,   0,   0,   0,   0,   0,   0,   0,   0,   0,   0,\n",
       "          0,   0,   0,   0,   0,   0,   0,   0,   0,   0,   0,   0,   0,\n",
       "          0,   0,   0]])"
      ]
     },
     "execution_count": 17,
     "metadata": {},
     "output_type": "execute_result"
    }
   ],
   "source": [
    "x_data[3:5]"
   ]
  },
  {
   "cell_type": "code",
   "execution_count": 18,
   "metadata": {},
   "outputs": [
    {
     "data": {
      "text/plain": [
       "array([[  1,   2,   3,   4,   5,   6,   7,   8,   7,   9,  10,  11,  12,\n",
       "         13,  14,  15,  16,   3,  17,  18,  19,  17,  20,   0,   0,   0,\n",
       "          0,   0,   0,   0,   0,   0,   0,   0,   0,   0,   0,   0,   0,\n",
       "          0,   0,   0,   0,   0,   0,   0,   0,   0,   0,   0,   0,   0,\n",
       "          0,   0,   0,   0,   0,   0,   0,   0,   0,   0,   0,   0,   0,\n",
       "          0,   0,   0,   0,   0,   0,   0,   0,   0,   0,   0,   0,   0,\n",
       "          0,   0,   0,   0,   0,   0,   0,   0,   0,   0,   0,   0,   0,\n",
       "          0,   0,   0,   0,   0,   0,   0,   0,   0,   0,   0,   0,   0,\n",
       "          0,   0,   0,   0,   0,   0,   0,   0,   0,   0,   0,   0,   0,\n",
       "          0,   0,   0,   0,   0,   0,   0,   0,   0,   0,   0,   0,   0,\n",
       "          0,   0,   0,   0,   0,   0,   0,   0,   0,   0,   0,   0,   0,\n",
       "          0,   0,   0,   0,   0,   0,   0,   0,   0,   0,   0,   0,   0,\n",
       "          0,   0,   0,   0,   0,   0,   0,   0,   0,   0,   0,   0,   0,\n",
       "          0,   0,   0,   0,   0,   0,   0,   0,   0,   0,   0,   0,   0,\n",
       "          0,   0,   0,   0,   0,   0,   0,   0,   0,   0,   0,   0,   0,\n",
       "          0,   0,   0,   0,   0,   0,   0,   0,   0,   0,   0,   0,   0,\n",
       "          0,   0,   0,   0,   0,   0,   0,   0,   0,   0,   0,   0,   0,\n",
       "          0,   0,   0,   0,   0,   0,   0,   0,   0,   0,   0,   0,   0,\n",
       "          0,   0,   0,   0,   0,   0,   0,   0,   0,   0,   0,   0,   0,\n",
       "          0,   0,   0],\n",
       "       [ 21,  22,  23,  24,  25,  26,  27,  28,  16,   3,  29,  30,  31,\n",
       "         32,  33,  34,  35,  36,  37,  38,  39,  24,  40,  41,  42,  43,\n",
       "         44,  45,  46,  47,  48,  33,  24,  49,  50,  51,  50,  52,  53,\n",
       "         54,  55,  24,  56,  33,  57,  58,  29,  59,  50,  60,  24,  56,\n",
       "         61,  62,  63,  64,  55,  46,  65,  33,  66,  67,  42,  68,  69,\n",
       "         39,  24,  70,  42,  53,  54,  29,  64,  50,  60,  16,  41,  71,\n",
       "         72,  73,  74,  75,  76,  13,  16,   3,  71,  66,  77,  78,  79,\n",
       "         80,  24,  81,  82,  83,  24,  84,  85,  86,  33,  87,  66,  88,\n",
       "         89,  71,  90,  37,  33,  91,  24,  92,  86,  93,  71,  94,  62,\n",
       "         29,  63,  95,  96,  97,  98,  99, 100,  22,  32,  24, 101, 102,\n",
       "        103, 104, 105,  90,  29, 106, 107, 108, 109, 110, 111, 112, 113,\n",
       "        114, 115, 116, 117,  16,   3,  36, 116,  12,  10, 118, 119, 120,\n",
       "        121, 122, 123,   0,   0,   0,   0,   0,   0,   0,   0,   0,   0,\n",
       "          0,   0,   0,   0,   0,   0,   0,   0,   0,   0,   0,   0,   0,\n",
       "          0,   0,   0,   0,   0,   0,   0,   0,   0,   0,   0,   0,   0,\n",
       "          0,   0,   0,   0,   0,   0,   0,   0,   0,   0,   0,   0,   0,\n",
       "          0,   0,   0,   0,   0,   0,   0,   0,   0,   0,   0,   0,   0,\n",
       "          0,   0,   0,   0,   0,   0,   0,   0,   0,   0,   0,   0,   0,\n",
       "          0,   0,   0,   0,   0,   0,   0,   0,   0,   0,   0,   0,   0,\n",
       "          0,   0,   0]])"
      ]
     },
     "execution_count": 18,
     "metadata": {},
     "output_type": "execute_result"
    }
   ],
   "source": [
    "x_data[:2]"
   ]
  },
  {
   "cell_type": "code",
   "execution_count": 19,
   "metadata": {},
   "outputs": [
    {
     "data": {
      "text/plain": [
       "array([1, 1, 1, 1, 1])"
      ]
     },
     "execution_count": 19,
     "metadata": {},
     "output_type": "execute_result"
    }
   ],
   "source": [
    "y_output[:5]"
   ]
  },
  {
   "cell_type": "markdown",
   "metadata": {},
   "source": [
    "#### Shuffle the data so the training instances are randomly fed to the RNN"
   ]
  },
  {
   "cell_type": "code",
   "execution_count": 20,
   "metadata": {},
   "outputs": [],
   "source": [
    "np.random.seed(22)\n",
    "shuffle_indices = np.random.permutation(np.arange(len(x_data)))\n",
    "\n",
    "x_shuffled = x_data[shuffle_indices]\n",
    "y_shuffled = y_output[shuffle_indices]"
   ]
  },
  {
   "cell_type": "code",
   "execution_count": 21,
   "metadata": {},
   "outputs": [],
   "source": [
    "TRAIN_DATA = 5000\n",
    "TOTAL_DATA = 6000\n",
    "\n",
    "train_data = x_shuffled[:TRAIN_DATA]\n",
    "train_target = y_shuffled[:TRAIN_DATA]\n",
    "\n",
    "test_data = x_shuffled[TRAIN_DATA:TOTAL_DATA]\n",
    "test_target = y_shuffled[TRAIN_DATA:TOTAL_DATA]"
   ]
  },
  {
   "cell_type": "code",
   "execution_count": 22,
   "metadata": {},
   "outputs": [],
   "source": [
    "tf.reset_default_graph()\n",
    "\n",
    "x = tf.placeholder(tf.int32, [None, MAX_SEQUENCE_LENGTH])\n",
    "y = tf.placeholder(tf.int32, [None])"
   ]
  },
  {
   "cell_type": "code",
   "execution_count": 23,
   "metadata": {},
   "outputs": [],
   "source": [
    "num_epochs = 20\n",
    "batch_size = 25\n",
    "embedding_size = 50\n",
    "max_label = 2"
   ]
  },
  {
   "cell_type": "markdown",
   "metadata": {},
   "source": [
    "### Embeddings to represent words\n",
    "\n",
    "These embeddings are generated as a part of the training process of the RNN. The embeddings are trained using the reviews in the training dataset.\n",
    "\n",
    "* *embedding_matrix* This is a matrix which holds the embeddings for every word in the vocabulary. The values are determined during the training process\n",
    "* *embeddings* The embeddings for the words which are input as a part of one training batch"
   ]
  },
  {
   "cell_type": "code",
   "execution_count": 24,
   "metadata": {},
   "outputs": [],
   "source": [
    "embedding_matrix = tf.Variable(tf.random_uniform([vocabulary_size, embedding_size], -1.0, 1.0))\n",
    "embeddings = tf.nn.embedding_lookup(embedding_matrix, x)"
   ]
  },
  {
   "cell_type": "code",
   "execution_count": 25,
   "metadata": {},
   "outputs": [
    {
     "data": {
      "text/plain": [
       "<tf.Variable 'Variable:0' shape=(111526, 50) dtype=float32_ref>"
      ]
     },
     "execution_count": 25,
     "metadata": {},
     "output_type": "execute_result"
    }
   ],
   "source": [
    "embedding_matrix"
   ]
  },
  {
   "cell_type": "code",
   "execution_count": 26,
   "metadata": {},
   "outputs": [
    {
     "data": {
      "text/plain": [
       "<tf.Tensor 'embedding_lookup:0' shape=(?, 250, 50) dtype=float32>"
      ]
     },
     "execution_count": 26,
     "metadata": {},
     "output_type": "execute_result"
    }
   ],
   "source": [
    "embeddings"
   ]
  },
  {
   "cell_type": "code",
   "execution_count": 27,
   "metadata": {},
   "outputs": [],
   "source": [
    "lstmCell = tf.contrib.rnn.BasicLSTMCell(embedding_size)\n",
    "lstmCell = tf.contrib.rnn.DropoutWrapper(cell=lstmCell, output_keep_prob=0.75)"
   ]
  },
  {
   "cell_type": "markdown",
   "metadata": {},
   "source": [
    "### Results from an RNN of LSTM cells\n",
    "\n",
    "(ouput, (**final_state**, other_state_info))\n",
    "\n",
    "We're interested in the final state of this RNN because those are the encodings we feed into the prediction layer of our neural network"
   ]
  },
  {
   "cell_type": "code",
   "execution_count": 28,
   "metadata": {},
   "outputs": [],
   "source": [
    "_, (encoding, _) = tf.nn.dynamic_rnn(lstmCell, embeddings, dtype=tf.float32)"
   ]
  },
  {
   "cell_type": "code",
   "execution_count": 29,
   "metadata": {},
   "outputs": [
    {
     "data": {
      "text/plain": [
       "<tf.Tensor 'rnn/while/Exit_3:0' shape=(?, 50) dtype=float32>"
      ]
     },
     "execution_count": 29,
     "metadata": {},
     "output_type": "execute_result"
    }
   ],
   "source": [
    "encoding"
   ]
  },
  {
   "cell_type": "markdown",
   "metadata": {},
   "source": [
    "#### A densely connected prediction layer\n",
    "\n",
    "* *activation=None* because the activation will be part of the tf.nn.sparse_softmax_cross_entropy_with_logits\n",
    "* *cross_entropy* the loss function for probability distributions\n",
    "* *max_label* the number of outputs of the prediction layer, here is 2, positive or negative"
   ]
  },
  {
   "cell_type": "code",
   "execution_count": 30,
   "metadata": {},
   "outputs": [],
   "source": [
    "logits = tf.layers.dense(encoding, max_label, activation=None)"
   ]
  },
  {
   "cell_type": "code",
   "execution_count": 31,
   "metadata": {},
   "outputs": [],
   "source": [
    "cross_entropy = tf.nn.sparse_softmax_cross_entropy_with_logits(logits=logits, labels=y)\n",
    "loss = tf.reduce_mean(cross_entropy)"
   ]
  },
  {
   "cell_type": "markdown",
   "metadata": {},
   "source": [
    "#### Find the output with the highest probability and compare against the true label"
   ]
  },
  {
   "cell_type": "code",
   "execution_count": 32,
   "metadata": {},
   "outputs": [],
   "source": [
    "prediction = tf.equal(tf.argmax(logits, 1), tf.cast(y, tf.int64))\n",
    "accuracy = tf.reduce_mean(tf.cast(prediction, tf.float32))"
   ]
  },
  {
   "cell_type": "code",
   "execution_count": 33,
   "metadata": {},
   "outputs": [],
   "source": [
    "optimizer = tf.train.AdamOptimizer(0.01)\n",
    "train_step = optimizer.minimize(loss)"
   ]
  },
  {
   "cell_type": "code",
   "execution_count": 34,
   "metadata": {},
   "outputs": [],
   "source": [
    "init = tf.global_variables_initializer()"
   ]
  },
  {
   "cell_type": "code",
   "execution_count": 35,
   "metadata": {},
   "outputs": [
    {
     "name": "stdout",
     "output_type": "stream",
     "text": [
      "Epoch: 1, Test Loss: 0.69, Test Acc: 0.487\n",
      "Epoch: 2, Test Loss: 1.3, Test Acc: 0.484\n",
      "Epoch: 3, Test Loss: 0.92, Test Acc: 0.63\n",
      "Epoch: 4, Test Loss: 0.8, Test Acc: 0.756\n",
      "Epoch: 5, Test Loss: 0.82, Test Acc: 0.806\n",
      "Epoch: 6, Test Loss: 1.1, Test Acc: 0.791\n",
      "Epoch: 7, Test Loss: 1.2, Test Acc: 0.8\n",
      "Epoch: 8, Test Loss: 1.2, Test Acc: 0.805\n",
      "Epoch: 9, Test Loss: 1.3, Test Acc: 0.806\n",
      "Epoch: 10, Test Loss: 1.3, Test Acc: 0.807\n",
      "Epoch: 11, Test Loss: 1.3, Test Acc: 0.806\n",
      "Epoch: 12, Test Loss: 1.4, Test Acc: 0.804\n",
      "Epoch: 13, Test Loss: 1.4, Test Acc: 0.803\n",
      "Epoch: 14, Test Loss: 1.4, Test Acc: 0.803\n",
      "Epoch: 15, Test Loss: 1.4, Test Acc: 0.805\n",
      "Epoch: 16, Test Loss: 1.4, Test Acc: 0.805\n",
      "Epoch: 17, Test Loss: 1.5, Test Acc: 0.808\n",
      "Epoch: 18, Test Loss: 1.5, Test Acc: 0.809\n",
      "Epoch: 19, Test Loss: 1.5, Test Acc: 0.808\n",
      "Epoch: 20, Test Loss: 1.5, Test Acc: 0.807\n"
     ]
    }
   ],
   "source": [
    "with tf.Session() as session:\n",
    "    init.run()\n",
    "    \n",
    "    for epoch in range(num_epochs):\n",
    "        \n",
    "        num_batches = int(len(train_data) // batch_size) + 1\n",
    "        \n",
    "        for i in range(num_batches):\n",
    "            # Select train data\n",
    "            min_ix = i * batch_size\n",
    "            max_ix = np.min([len(train_data), ((i+1) * batch_size)])\n",
    "\n",
    "            x_train_batch = train_data[min_ix:max_ix]\n",
    "            y_train_batch = train_target[min_ix:max_ix]\n",
    "            \n",
    "            train_dict = {x: x_train_batch, y: y_train_batch}\n",
    "            session.run(train_step, feed_dict=train_dict)\n",
    "            \n",
    "            train_loss, train_acc = session.run([loss, accuracy], feed_dict=train_dict)\n",
    "\n",
    "        test_dict = {x: test_data, y: test_target}\n",
    "        test_loss, test_acc = session.run([loss, accuracy], feed_dict=test_dict)    \n",
    "        print('Epoch: {}, Test Loss: {:.2}, Test Acc: {:.5}'.format(epoch + 1, test_loss, test_acc)) "
   ]
  },
  {
   "cell_type": "code",
   "execution_count": null,
   "metadata": {
    "collapsed": true
   },
   "outputs": [],
   "source": []
  }
 ],
 "metadata": {
  "kernelspec": {
   "display_name": "Python 3",
   "language": "python",
   "name": "python3"
  },
  "language_info": {
   "codemirror_mode": {
    "name": "ipython",
    "version": 3
   },
   "file_extension": ".py",
   "mimetype": "text/x-python",
   "name": "python",
   "nbconvert_exporter": "python",
   "pygments_lexer": "ipython3",
   "version": "3.6.3"
  }
 },
 "nbformat": 4,
 "nbformat_minor": 2
}
